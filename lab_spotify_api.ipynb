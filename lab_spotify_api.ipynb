{
 "cells": [
  {
   "cell_type": "code",
   "execution_count": 3,
   "id": "543ce8ea-bab2-471f-88d3-b165ff96d8a0",
   "metadata": {},
   "outputs": [],
   "source": [
    "import pandas as pd\n",
    "import numpy as np\n",
    "import spotipy\n",
    "import json\n",
    "from spotipy.oauth2 import SpotifyClientCredentials"
   ]
  },
  {
   "cell_type": "code",
   "execution_count": 5,
   "id": "a6039dba-e2fe-4b21-b20d-1add7fa8cef4",
   "metadata": {},
   "outputs": [],
   "source": [
    "#input credentials\n",
    "from config import *"
   ]
  },
  {
   "cell_type": "code",
   "execution_count": 144,
   "id": "639c018e-b47e-4cac-81e7-12110e263a1f",
   "metadata": {},
   "outputs": [],
   "source": [
    "def search_song(title:str, artist:str, limit=1) -> str:\n",
    "    \"\"\"\n",
    "    Function takes two values: title and artist and then searches for it in Spotify\n",
    "    It returns the number of results set by `limit`. \n",
    "\n",
    "    If the limit is great than 1, the user must select which item to pick.\n",
    "\n",
    "    The function returns the Spotify id number.\n",
    "\n",
    "    Input\n",
    "    title: string of song title\n",
    "    artist: string of artist name\n",
    "    limit: the number of results to return\n",
    "\n",
    "    Output\n",
    "    string with Spotify song id number\n",
    "    \"\"\"\n",
    "    \n",
    "    #Initialize SpotiPy with user credentias #\n",
    "    sp = spotipy.Spotify(auth_manager=SpotifyClientCredentials(client_id=CLIENT_ID,\n",
    "                                                           client_secret=CLIENT_SECRET))\n",
    "\n",
    "\n",
    "    #search for song\n",
    "    results = sp.search(q=\"artist:\" + artist + \" track:\" + title, limit=limit)\n",
    "\n",
    "    if len(results['tracks']['items']) > 1:\n",
    "        select_dict = {}\n",
    "        for i in range(len(results['tracks']['items'])):\n",
    "            #create a dataframe with the results\n",
    "            id = results['tracks']['items'][i]['id']\n",
    "            select_dict[id] = [results[\"tracks\"][\"items\"][i]['name'],\n",
    "                               results['tracks']['items'][i]['album']['artists'][0]['name'],\n",
    "                               results['tracks']['items'][i]['album']['name']]\n",
    "            \n",
    "        df_results = (pd.DataFrame.from_dict(select_dict,\n",
    "                                             orient='index',\n",
    "                                             columns = ['title', 'artist', 'album'])\n",
    "                      .reset_index(names = 'id',\n",
    "                                   drop=False)\n",
    "                      .drop_duplicates(subset = ['title', 'artist', 'album'],\n",
    "                                       keep='first')\n",
    "                     )\n",
    "        \n",
    "        display(df_results[['title', 'artist', 'album']])\n",
    "            \n",
    "        row_number = int(input('Please enter the number of the song you are looking for'))\n",
    "\n",
    "        id_number = df_results.iloc[row_number]['id']\n",
    "\n",
    "        return id_number\n",
    "\n",
    "    else:\n",
    "        return results['tracks']['items'][0]['id']\n",
    "        \n"
   ]
  },
  {
   "cell_type": "code",
   "execution_count": 145,
   "id": "531c73f4-8e9a-45da-9264-34341be01681",
   "metadata": {},
   "outputs": [
    {
     "data": {
      "text/plain": [
       "'273dCMFseLcVsoSWx59IoE'"
      ]
     },
     "execution_count": 145,
     "metadata": {},
     "output_type": "execute_result"
    }
   ],
   "source": [
    "search_song('Bad Blood', 'Taylor Swift')"
   ]
  },
  {
   "cell_type": "code",
   "execution_count": 124,
   "id": "f2fb3608-1876-4874-a634-00c841e277b0",
   "metadata": {},
   "outputs": [],
   "source": [
    "def get_audio_features(list_of_ids)->pd.DataFrame:\n",
    "    \"\"\"\n",
    "    This function takes a list of id values and gets the spotify audio features for this song.\n",
    "    The function returns a pandas DataFrame with the id number and the \n",
    "\n",
    "    Input\n",
    "    list_of_ids: a list with id values as strings\n",
    "\n",
    "    Output\n",
    "    pandas DataFrame with the title of the song, name of the artist and all features\n",
    "    \"\"\"\n",
    "    \n",
    "    #Initialize SpotiPy with user credentias #\n",
    "    sp = spotipy.Spotify(auth_manager=SpotifyClientCredentials(client_id=CLIENT_ID,\n",
    "                                                           client_secret=CLIENT_SECRET))\n",
    "    full_dict={}\n",
    "    for id in list_of_ids:\n",
    "        \n",
    "        my_dict = sp.audio_features(id)[0]\n",
    "\n",
    "        #print(my_dict)\n",
    "\n",
    "        my_dict_new = { key : [my_dict[key]] for key in list(my_dict.keys()) }\n",
    "        #print(my_dict_new)\n",
    "        \n",
    "        full_dict[id] = my_dict_new\n",
    "    \n",
    "    #print(full_dict)\n",
    "        #my_dict_new['titles'] = [results[\"tracks\"][\"items\"][0]['name']]\n",
    "        #my_dict_new['artists']= [results['tracks']['items'][0]['album']['artists'][0]['name']]\n",
    "        \n",
    "        \n",
    "    features_df = pd.DataFrame.from_dict(full_dict,orient='index').reset_index(drop = False)\n",
    "    features_df = features_df.rename(columns={'index':'id'})\n",
    "\n",
    "    return features_df\n",
    "    "
   ]
  },
  {
   "cell_type": "code",
   "execution_count": 125,
   "id": "7e5138b6-0d4e-4c89-8be2-b3660afb9213",
   "metadata": {},
   "outputs": [],
   "source": [
    "test_list =['3k79jB4aGmMDUQzEwa46Rz','273dCMFseLcVsoSWx59IoE']"
   ]
  },
  {
   "cell_type": "code",
   "execution_count": 126,
   "id": "64121def-119c-4556-9f95-500fa6bdeb34",
   "metadata": {},
   "outputs": [
    {
     "data": {
      "text/html": [
       "<div>\n",
       "<style scoped>\n",
       "    .dataframe tbody tr th:only-of-type {\n",
       "        vertical-align: middle;\n",
       "    }\n",
       "\n",
       "    .dataframe tbody tr th {\n",
       "        vertical-align: top;\n",
       "    }\n",
       "\n",
       "    .dataframe thead th {\n",
       "        text-align: right;\n",
       "    }\n",
       "</style>\n",
       "<table border=\"1\" class=\"dataframe\">\n",
       "  <thead>\n",
       "    <tr style=\"text-align: right;\">\n",
       "      <th></th>\n",
       "      <th>id</th>\n",
       "      <th>danceability</th>\n",
       "      <th>energy</th>\n",
       "      <th>key</th>\n",
       "      <th>loudness</th>\n",
       "      <th>mode</th>\n",
       "      <th>speechiness</th>\n",
       "      <th>acousticness</th>\n",
       "      <th>instrumentalness</th>\n",
       "      <th>liveness</th>\n",
       "      <th>valence</th>\n",
       "      <th>tempo</th>\n",
       "      <th>type</th>\n",
       "      <th>id</th>\n",
       "      <th>uri</th>\n",
       "      <th>track_href</th>\n",
       "      <th>analysis_url</th>\n",
       "      <th>duration_ms</th>\n",
       "      <th>time_signature</th>\n",
       "    </tr>\n",
       "  </thead>\n",
       "  <tbody>\n",
       "    <tr>\n",
       "      <th>0</th>\n",
       "      <td>3k79jB4aGmMDUQzEwa46Rz</td>\n",
       "      <td>[0.511]</td>\n",
       "      <td>[0.532]</td>\n",
       "      <td>[5]</td>\n",
       "      <td>[-5.745]</td>\n",
       "      <td>[1]</td>\n",
       "      <td>[0.056]</td>\n",
       "      <td>[0.169]</td>\n",
       "      <td>[0]</td>\n",
       "      <td>[0.311]</td>\n",
       "      <td>[0.322]</td>\n",
       "      <td>[137.827]</td>\n",
       "      <td>[audio_features]</td>\n",
       "      <td>[3k79jB4aGmMDUQzEwa46Rz]</td>\n",
       "      <td>[spotify:track:3k79jB4aGmMDUQzEwa46Rz]</td>\n",
       "      <td>[https://api.spotify.com/v1/tracks/3k79jB4aGmM...</td>\n",
       "      <td>[https://api.spotify.com/v1/audio-analysis/3k7...</td>\n",
       "      <td>[219724]</td>\n",
       "      <td>[4]</td>\n",
       "    </tr>\n",
       "    <tr>\n",
       "      <th>1</th>\n",
       "      <td>273dCMFseLcVsoSWx59IoE</td>\n",
       "      <td>[0.65]</td>\n",
       "      <td>[0.802]</td>\n",
       "      <td>[7]</td>\n",
       "      <td>[-6.114]</td>\n",
       "      <td>[1]</td>\n",
       "      <td>[0.181]</td>\n",
       "      <td>[0.0871]</td>\n",
       "      <td>[6.54e-06]</td>\n",
       "      <td>[0.148]</td>\n",
       "      <td>[0.295]</td>\n",
       "      <td>[170.146]</td>\n",
       "      <td>[audio_features]</td>\n",
       "      <td>[273dCMFseLcVsoSWx59IoE]</td>\n",
       "      <td>[spotify:track:273dCMFseLcVsoSWx59IoE]</td>\n",
       "      <td>[https://api.spotify.com/v1/tracks/273dCMFseLc...</td>\n",
       "      <td>[https://api.spotify.com/v1/audio-analysis/273...</td>\n",
       "      <td>[211933]</td>\n",
       "      <td>[4]</td>\n",
       "    </tr>\n",
       "  </tbody>\n",
       "</table>\n",
       "</div>"
      ],
      "text/plain": [
       "                       id danceability   energy  key  loudness mode  \\\n",
       "0  3k79jB4aGmMDUQzEwa46Rz      [0.511]  [0.532]  [5]  [-5.745]  [1]   \n",
       "1  273dCMFseLcVsoSWx59IoE       [0.65]  [0.802]  [7]  [-6.114]  [1]   \n",
       "\n",
       "  speechiness acousticness instrumentalness liveness  valence      tempo  \\\n",
       "0     [0.056]      [0.169]              [0]  [0.311]  [0.322]  [137.827]   \n",
       "1     [0.181]     [0.0871]       [6.54e-06]  [0.148]  [0.295]  [170.146]   \n",
       "\n",
       "               type                        id  \\\n",
       "0  [audio_features]  [3k79jB4aGmMDUQzEwa46Rz]   \n",
       "1  [audio_features]  [273dCMFseLcVsoSWx59IoE]   \n",
       "\n",
       "                                      uri  \\\n",
       "0  [spotify:track:3k79jB4aGmMDUQzEwa46Rz]   \n",
       "1  [spotify:track:273dCMFseLcVsoSWx59IoE]   \n",
       "\n",
       "                                          track_href  \\\n",
       "0  [https://api.spotify.com/v1/tracks/3k79jB4aGmM...   \n",
       "1  [https://api.spotify.com/v1/tracks/273dCMFseLc...   \n",
       "\n",
       "                                        analysis_url duration_ms  \\\n",
       "0  [https://api.spotify.com/v1/audio-analysis/3k7...    [219724]   \n",
       "1  [https://api.spotify.com/v1/audio-analysis/273...    [211933]   \n",
       "\n",
       "  time_signature  \n",
       "0            [4]  \n",
       "1            [4]  "
      ]
     },
     "execution_count": 126,
     "metadata": {},
     "output_type": "execute_result"
    }
   ],
   "source": [
    "get_audio_features(test_list)"
   ]
  },
  {
   "cell_type": "code",
   "execution_count": 137,
   "id": "0f52e43f-7ded-4b0f-868d-2a48c0777d24",
   "metadata": {},
   "outputs": [],
   "source": [
    "#read in the file with hot songs\n",
    "hot = pd.read_csv('data/popular.csv')"
   ]
  },
  {
   "cell_type": "code",
   "execution_count": 138,
   "id": "dd4335f9-9d87-47a3-b9f0-194bda4b7cd8",
   "metadata": {},
   "outputs": [
    {
     "data": {
      "text/plain": [
       "(100, 2)"
      ]
     },
     "execution_count": 138,
     "metadata": {},
     "output_type": "execute_result"
    }
   ],
   "source": [
    "hot.shape"
   ]
  },
  {
   "cell_type": "code",
   "execution_count": 146,
   "id": "e85a32c0-2145-4b64-b704-c3f4b996d643",
   "metadata": {},
   "outputs": [],
   "source": [
    "chunk_num = 2\n",
    "chunks = np.split(hot, chunk_num)"
   ]
  },
  {
   "cell_type": "code",
   "execution_count": 147,
   "id": "f22a5bc4-1555-4eaa-bc8a-1e0fe23320e3",
   "metadata": {},
   "outputs": [
    {
     "data": {
      "text/html": [
       "<div>\n",
       "<style scoped>\n",
       "    .dataframe tbody tr th:only-of-type {\n",
       "        vertical-align: middle;\n",
       "    }\n",
       "\n",
       "    .dataframe tbody tr th {\n",
       "        vertical-align: top;\n",
       "    }\n",
       "\n",
       "    .dataframe thead th {\n",
       "        text-align: right;\n",
       "    }\n",
       "</style>\n",
       "<table border=\"1\" class=\"dataframe\">\n",
       "  <thead>\n",
       "    <tr style=\"text-align: right;\">\n",
       "      <th></th>\n",
       "      <th>titles</th>\n",
       "      <th>artists</th>\n",
       "    </tr>\n",
       "  </thead>\n",
       "  <tbody>\n",
       "    <tr>\n",
       "      <th>0</th>\n",
       "      <td>Vampire</td>\n",
       "      <td>Olivia Rodrigo</td>\n",
       "    </tr>\n",
       "    <tr>\n",
       "      <th>1</th>\n",
       "      <td>Last Night</td>\n",
       "      <td>Morgan Wallen</td>\n",
       "    </tr>\n",
       "    <tr>\n",
       "      <th>2</th>\n",
       "      <td>Fast Car</td>\n",
       "      <td>Luke Combs</td>\n",
       "    </tr>\n",
       "    <tr>\n",
       "      <th>3</th>\n",
       "      <td>Calm Down</td>\n",
       "      <td>Rema &amp; Selena Gomez</td>\n",
       "    </tr>\n",
       "    <tr>\n",
       "      <th>4</th>\n",
       "      <td>Flowers</td>\n",
       "      <td>Miley Cyrus</td>\n",
       "    </tr>\n",
       "  </tbody>\n",
       "</table>\n",
       "</div>"
      ],
      "text/plain": [
       "       titles              artists\n",
       "0     Vampire       Olivia Rodrigo\n",
       "1  Last Night        Morgan Wallen\n",
       "2    Fast Car           Luke Combs\n",
       "3   Calm Down  Rema & Selena Gomez\n",
       "4     Flowers          Miley Cyrus"
      ]
     },
     "execution_count": 147,
     "metadata": {},
     "output_type": "execute_result"
    }
   ],
   "source": [
    "chunks[0].head()"
   ]
  },
  {
   "cell_type": "code",
   "execution_count": 149,
   "id": "6834adb0-1557-45d9-a8b6-d3bea4237bf6",
   "metadata": {},
   "outputs": [
    {
     "ename": "IndexError",
     "evalue": "list index out of range",
     "output_type": "error",
     "traceback": [
      "\u001b[0;31m---------------------------------------------------------------------------\u001b[0m",
      "\u001b[0;31mIndexError\u001b[0m                                Traceback (most recent call last)",
      "Cell \u001b[0;32mIn[149], line 3\u001b[0m\n\u001b[1;32m      1\u001b[0m \u001b[38;5;28;01mimport\u001b[39;00m \u001b[38;5;21;01mtime\u001b[39;00m\n\u001b[1;32m      2\u001b[0m \u001b[38;5;28;01mfor\u001b[39;00m chunk \u001b[38;5;129;01min\u001b[39;00m chunks:\n\u001b[0;32m----> 3\u001b[0m     chunk[\u001b[38;5;124m'\u001b[39m\u001b[38;5;124mid\u001b[39m\u001b[38;5;124m'\u001b[39m] \u001b[38;5;241m=\u001b[39m \u001b[43mchunk\u001b[49m\u001b[38;5;241;43m.\u001b[39;49m\u001b[43mapply\u001b[49m\u001b[43m(\u001b[49m\u001b[38;5;28;43;01mlambda\u001b[39;49;00m\u001b[43m \u001b[49m\u001b[43mrow\u001b[49m\u001b[43m:\u001b[49m\u001b[43m \u001b[49m\u001b[43msearch_song\u001b[49m\u001b[43m(\u001b[49m\u001b[43mrow\u001b[49m\u001b[43m[\u001b[49m\u001b[38;5;124;43m'\u001b[39;49m\u001b[38;5;124;43mtitles\u001b[39;49m\u001b[38;5;124;43m'\u001b[39;49m\u001b[43m]\u001b[49m\u001b[43m,\u001b[49m\u001b[43m \u001b[49m\u001b[43mrow\u001b[49m\u001b[43m[\u001b[49m\u001b[38;5;124;43m'\u001b[39;49m\u001b[38;5;124;43martists\u001b[39;49m\u001b[38;5;124;43m'\u001b[39;49m\u001b[43m]\u001b[49m\u001b[43m)\u001b[49m\u001b[43m,\u001b[49m\u001b[43m \u001b[49m\u001b[43maxis\u001b[49m\u001b[38;5;241;43m=\u001b[39;49m\u001b[38;5;241;43m1\u001b[39;49m\u001b[43m)\u001b[49m\n\u001b[1;32m      6\u001b[0m     time\u001b[38;5;241m.\u001b[39msleep(\u001b[38;5;241m10\u001b[39m)\n\u001b[1;32m      8\u001b[0m display(chunks[\u001b[38;5;241m0\u001b[39m])\n",
      "File \u001b[0;32m~/Desktop/ironhack-work/Week_5/Mid_bootcamp_project/venv/lib/python3.11/site-packages/pandas/core/frame.py:9423\u001b[0m, in \u001b[0;36mDataFrame.apply\u001b[0;34m(self, func, axis, raw, result_type, args, **kwargs)\u001b[0m\n\u001b[1;32m   9412\u001b[0m \u001b[38;5;28;01mfrom\u001b[39;00m \u001b[38;5;21;01mpandas\u001b[39;00m\u001b[38;5;21;01m.\u001b[39;00m\u001b[38;5;21;01mcore\u001b[39;00m\u001b[38;5;21;01m.\u001b[39;00m\u001b[38;5;21;01mapply\u001b[39;00m \u001b[38;5;28;01mimport\u001b[39;00m frame_apply\n\u001b[1;32m   9414\u001b[0m op \u001b[38;5;241m=\u001b[39m frame_apply(\n\u001b[1;32m   9415\u001b[0m     \u001b[38;5;28mself\u001b[39m,\n\u001b[1;32m   9416\u001b[0m     func\u001b[38;5;241m=\u001b[39mfunc,\n\u001b[0;32m   (...)\u001b[0m\n\u001b[1;32m   9421\u001b[0m     kwargs\u001b[38;5;241m=\u001b[39mkwargs,\n\u001b[1;32m   9422\u001b[0m )\n\u001b[0;32m-> 9423\u001b[0m \u001b[38;5;28;01mreturn\u001b[39;00m \u001b[43mop\u001b[49m\u001b[38;5;241;43m.\u001b[39;49m\u001b[43mapply\u001b[49m\u001b[43m(\u001b[49m\u001b[43m)\u001b[49m\u001b[38;5;241m.\u001b[39m__finalize__(\u001b[38;5;28mself\u001b[39m, method\u001b[38;5;241m=\u001b[39m\u001b[38;5;124m\"\u001b[39m\u001b[38;5;124mapply\u001b[39m\u001b[38;5;124m\"\u001b[39m)\n",
      "File \u001b[0;32m~/Desktop/ironhack-work/Week_5/Mid_bootcamp_project/venv/lib/python3.11/site-packages/pandas/core/apply.py:678\u001b[0m, in \u001b[0;36mFrameApply.apply\u001b[0;34m(self)\u001b[0m\n\u001b[1;32m    675\u001b[0m \u001b[38;5;28;01melif\u001b[39;00m \u001b[38;5;28mself\u001b[39m\u001b[38;5;241m.\u001b[39mraw:\n\u001b[1;32m    676\u001b[0m     \u001b[38;5;28;01mreturn\u001b[39;00m \u001b[38;5;28mself\u001b[39m\u001b[38;5;241m.\u001b[39mapply_raw()\n\u001b[0;32m--> 678\u001b[0m \u001b[38;5;28;01mreturn\u001b[39;00m \u001b[38;5;28;43mself\u001b[39;49m\u001b[38;5;241;43m.\u001b[39;49m\u001b[43mapply_standard\u001b[49m\u001b[43m(\u001b[49m\u001b[43m)\u001b[49m\n",
      "File \u001b[0;32m~/Desktop/ironhack-work/Week_5/Mid_bootcamp_project/venv/lib/python3.11/site-packages/pandas/core/apply.py:798\u001b[0m, in \u001b[0;36mFrameApply.apply_standard\u001b[0;34m(self)\u001b[0m\n\u001b[1;32m    797\u001b[0m \u001b[38;5;28;01mdef\u001b[39;00m \u001b[38;5;21mapply_standard\u001b[39m(\u001b[38;5;28mself\u001b[39m):\n\u001b[0;32m--> 798\u001b[0m     results, res_index \u001b[38;5;241m=\u001b[39m \u001b[38;5;28;43mself\u001b[39;49m\u001b[38;5;241;43m.\u001b[39;49m\u001b[43mapply_series_generator\u001b[49m\u001b[43m(\u001b[49m\u001b[43m)\u001b[49m\n\u001b[1;32m    800\u001b[0m     \u001b[38;5;66;03m# wrap results\u001b[39;00m\n\u001b[1;32m    801\u001b[0m     \u001b[38;5;28;01mreturn\u001b[39;00m \u001b[38;5;28mself\u001b[39m\u001b[38;5;241m.\u001b[39mwrap_results(results, res_index)\n",
      "File \u001b[0;32m~/Desktop/ironhack-work/Week_5/Mid_bootcamp_project/venv/lib/python3.11/site-packages/pandas/core/apply.py:814\u001b[0m, in \u001b[0;36mFrameApply.apply_series_generator\u001b[0;34m(self)\u001b[0m\n\u001b[1;32m    811\u001b[0m \u001b[38;5;28;01mwith\u001b[39;00m option_context(\u001b[38;5;124m\"\u001b[39m\u001b[38;5;124mmode.chained_assignment\u001b[39m\u001b[38;5;124m\"\u001b[39m, \u001b[38;5;28;01mNone\u001b[39;00m):\n\u001b[1;32m    812\u001b[0m     \u001b[38;5;28;01mfor\u001b[39;00m i, v \u001b[38;5;129;01min\u001b[39;00m \u001b[38;5;28menumerate\u001b[39m(series_gen):\n\u001b[1;32m    813\u001b[0m         \u001b[38;5;66;03m# ignore SettingWithCopy here in case the user mutates\u001b[39;00m\n\u001b[0;32m--> 814\u001b[0m         results[i] \u001b[38;5;241m=\u001b[39m \u001b[38;5;28;43mself\u001b[39;49m\u001b[38;5;241;43m.\u001b[39;49m\u001b[43mf\u001b[49m\u001b[43m(\u001b[49m\u001b[43mv\u001b[49m\u001b[43m)\u001b[49m\n\u001b[1;32m    815\u001b[0m         \u001b[38;5;28;01mif\u001b[39;00m \u001b[38;5;28misinstance\u001b[39m(results[i], ABCSeries):\n\u001b[1;32m    816\u001b[0m             \u001b[38;5;66;03m# If we have a view on v, we need to make a copy because\u001b[39;00m\n\u001b[1;32m    817\u001b[0m             \u001b[38;5;66;03m#  series_generator will swap out the underlying data\u001b[39;00m\n\u001b[1;32m    818\u001b[0m             results[i] \u001b[38;5;241m=\u001b[39m results[i]\u001b[38;5;241m.\u001b[39mcopy(deep\u001b[38;5;241m=\u001b[39m\u001b[38;5;28;01mFalse\u001b[39;00m)\n",
      "Cell \u001b[0;32mIn[149], line 3\u001b[0m, in \u001b[0;36m<lambda>\u001b[0;34m(row)\u001b[0m\n\u001b[1;32m      1\u001b[0m \u001b[38;5;28;01mimport\u001b[39;00m \u001b[38;5;21;01mtime\u001b[39;00m\n\u001b[1;32m      2\u001b[0m \u001b[38;5;28;01mfor\u001b[39;00m chunk \u001b[38;5;129;01min\u001b[39;00m chunks:\n\u001b[0;32m----> 3\u001b[0m     chunk[\u001b[38;5;124m'\u001b[39m\u001b[38;5;124mid\u001b[39m\u001b[38;5;124m'\u001b[39m] \u001b[38;5;241m=\u001b[39m chunk\u001b[38;5;241m.\u001b[39mapply(\u001b[38;5;28;01mlambda\u001b[39;00m row: \u001b[43msearch_song\u001b[49m\u001b[43m(\u001b[49m\u001b[43mrow\u001b[49m\u001b[43m[\u001b[49m\u001b[38;5;124;43m'\u001b[39;49m\u001b[38;5;124;43mtitles\u001b[39;49m\u001b[38;5;124;43m'\u001b[39;49m\u001b[43m]\u001b[49m\u001b[43m,\u001b[49m\u001b[43m \u001b[49m\u001b[43mrow\u001b[49m\u001b[43m[\u001b[49m\u001b[38;5;124;43m'\u001b[39;49m\u001b[38;5;124;43martists\u001b[39;49m\u001b[38;5;124;43m'\u001b[39;49m\u001b[43m]\u001b[49m\u001b[43m)\u001b[49m, axis\u001b[38;5;241m=\u001b[39m\u001b[38;5;241m1\u001b[39m)\n\u001b[1;32m      6\u001b[0m     time\u001b[38;5;241m.\u001b[39msleep(\u001b[38;5;241m10\u001b[39m)\n\u001b[1;32m      8\u001b[0m display(chunks[\u001b[38;5;241m0\u001b[39m])\n",
      "Cell \u001b[0;32mIn[144], line 54\u001b[0m, in \u001b[0;36msearch_song\u001b[0;34m(title, artist, limit)\u001b[0m\n\u001b[1;32m     51\u001b[0m     \u001b[38;5;28;01mreturn\u001b[39;00m id_number\n\u001b[1;32m     53\u001b[0m \u001b[38;5;28;01melse\u001b[39;00m:\n\u001b[0;32m---> 54\u001b[0m     \u001b[38;5;28;01mreturn\u001b[39;00m \u001b[43mresults\u001b[49m\u001b[43m[\u001b[49m\u001b[38;5;124;43m'\u001b[39;49m\u001b[38;5;124;43mtracks\u001b[39;49m\u001b[38;5;124;43m'\u001b[39;49m\u001b[43m]\u001b[49m\u001b[43m[\u001b[49m\u001b[38;5;124;43m'\u001b[39;49m\u001b[38;5;124;43mitems\u001b[39;49m\u001b[38;5;124;43m'\u001b[39;49m\u001b[43m]\u001b[49m\u001b[43m[\u001b[49m\u001b[38;5;241;43m0\u001b[39;49m\u001b[43m]\u001b[49m[\u001b[38;5;124m'\u001b[39m\u001b[38;5;124mid\u001b[39m\u001b[38;5;124m'\u001b[39m]\n",
      "\u001b[0;31mIndexError\u001b[0m: list index out of range"
     ]
    }
   ],
   "source": [
    "import time\n",
    "\n",
    "list_of_ids = []\n",
    "\n",
    "for chunk in chunks:\n",
    "    #make a tuple of titles and artists\n",
    "    artist_name = list(chunk.artists)\n",
    "    song_title = list(chunk.titles)\n",
    "    tup = list(zip(artist_name, song_title))\n",
    "    \n",
    "    for t in tup:\n",
    "        list_of_ids.append(search_song(tup[1],tup[0]))\n",
    "        time.sleep(5)\n"
   ]
  },
  {
   "cell_type": "code",
   "execution_count": null,
   "id": "a0ff37b2-32f6-4ec9-b6c4-df55a2227966",
   "metadata": {},
   "outputs": [],
   "source": []
  }
 ],
 "metadata": {
  "kernelspec": {
   "display_name": "venv",
   "language": "python",
   "name": "venv"
  },
  "language_info": {
   "codemirror_mode": {
    "name": "ipython",
    "version": 3
   },
   "file_extension": ".py",
   "mimetype": "text/x-python",
   "name": "python",
   "nbconvert_exporter": "python",
   "pygments_lexer": "ipython3",
   "version": "3.11.4"
  }
 },
 "nbformat": 4,
 "nbformat_minor": 5
}
